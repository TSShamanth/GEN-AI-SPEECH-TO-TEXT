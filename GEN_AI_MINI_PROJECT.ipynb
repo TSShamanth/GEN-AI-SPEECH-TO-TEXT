{
  "nbformat": 4,
  "nbformat_minor": 0,
  "metadata": {
    "colab": {
      "provenance": []
    },
    "kernelspec": {
      "name": "python3",
      "display_name": "Python 3"
    },
    "widgets": {
      "application/vnd.jupyter.widget-state+json": {
        "e8c385feb3b0472b965bb54ca1ecc0e6": {
          "model_module": "@jupyter-widgets/controls",
          "model_name": "HBoxModel",
          "model_module_version": "1.5.0",
          "state": {
            "_dom_classes": [],
            "_model_module": "@jupyter-widgets/controls",
            "_model_module_version": "1.5.0",
            "_model_name": "HBoxModel",
            "_view_count": null,
            "_view_module": "@jupyter-widgets/controls",
            "_view_module_version": "1.5.0",
            "_view_name": "HBoxView",
            "box_style": "",
            "children": [
              "IPY_MODEL_7308fa1515c0498aadad116f76b78a1e",
              "IPY_MODEL_5b577050312349a8a7a5a867698c956f",
              "IPY_MODEL_6b2b940925004c37b49cb7de22d6a252"
            ],
            "layout": "IPY_MODEL_3ac99042dbe1469abe0356568049b16e"
          }
        },
        "7308fa1515c0498aadad116f76b78a1e": {
          "model_module": "@jupyter-widgets/controls",
          "model_name": "HTMLModel",
          "model_module_version": "1.5.0",
          "state": {
            "_dom_classes": [],
            "_model_module": "@jupyter-widgets/controls",
            "_model_module_version": "1.5.0",
            "_model_name": "HTMLModel",
            "_view_count": null,
            "_view_module": "@jupyter-widgets/controls",
            "_view_module_version": "1.5.0",
            "_view_name": "HTMLView",
            "description": "",
            "description_tooltip": null,
            "layout": "IPY_MODEL_812109684c974b3e9ed046743df756f0",
            "placeholder": "​",
            "style": "IPY_MODEL_2d1bd81f372d406f9f9de6c52f137a2c",
            "value": "tokenizer_config.json: 100%"
          }
        },
        "5b577050312349a8a7a5a867698c956f": {
          "model_module": "@jupyter-widgets/controls",
          "model_name": "FloatProgressModel",
          "model_module_version": "1.5.0",
          "state": {
            "_dom_classes": [],
            "_model_module": "@jupyter-widgets/controls",
            "_model_module_version": "1.5.0",
            "_model_name": "FloatProgressModel",
            "_view_count": null,
            "_view_module": "@jupyter-widgets/controls",
            "_view_module_version": "1.5.0",
            "_view_name": "ProgressView",
            "bar_style": "success",
            "description": "",
            "description_tooltip": null,
            "layout": "IPY_MODEL_beae3f243e034e1885802a285fa67546",
            "max": 163,
            "min": 0,
            "orientation": "horizontal",
            "style": "IPY_MODEL_e9600cc0878940b6a957bfdd55d2eec4",
            "value": 163
          }
        },
        "6b2b940925004c37b49cb7de22d6a252": {
          "model_module": "@jupyter-widgets/controls",
          "model_name": "HTMLModel",
          "model_module_version": "1.5.0",
          "state": {
            "_dom_classes": [],
            "_model_module": "@jupyter-widgets/controls",
            "_model_module_version": "1.5.0",
            "_model_name": "HTMLModel",
            "_view_count": null,
            "_view_module": "@jupyter-widgets/controls",
            "_view_module_version": "1.5.0",
            "_view_name": "HTMLView",
            "description": "",
            "description_tooltip": null,
            "layout": "IPY_MODEL_00f3b3b5e0ca44319dc9f26cdf037b9c",
            "placeholder": "​",
            "style": "IPY_MODEL_5be0a965d29443d8815cd1ce7e9c3b6b",
            "value": " 163/163 [00:00&lt;00:00, 4.91kB/s]"
          }
        },
        "3ac99042dbe1469abe0356568049b16e": {
          "model_module": "@jupyter-widgets/base",
          "model_name": "LayoutModel",
          "model_module_version": "1.2.0",
          "state": {
            "_model_module": "@jupyter-widgets/base",
            "_model_module_version": "1.2.0",
            "_model_name": "LayoutModel",
            "_view_count": null,
            "_view_module": "@jupyter-widgets/base",
            "_view_module_version": "1.2.0",
            "_view_name": "LayoutView",
            "align_content": null,
            "align_items": null,
            "align_self": null,
            "border": null,
            "bottom": null,
            "display": null,
            "flex": null,
            "flex_flow": null,
            "grid_area": null,
            "grid_auto_columns": null,
            "grid_auto_flow": null,
            "grid_auto_rows": null,
            "grid_column": null,
            "grid_gap": null,
            "grid_row": null,
            "grid_template_areas": null,
            "grid_template_columns": null,
            "grid_template_rows": null,
            "height": null,
            "justify_content": null,
            "justify_items": null,
            "left": null,
            "margin": null,
            "max_height": null,
            "max_width": null,
            "min_height": null,
            "min_width": null,
            "object_fit": null,
            "object_position": null,
            "order": null,
            "overflow": null,
            "overflow_x": null,
            "overflow_y": null,
            "padding": null,
            "right": null,
            "top": null,
            "visibility": null,
            "width": null
          }
        },
        "812109684c974b3e9ed046743df756f0": {
          "model_module": "@jupyter-widgets/base",
          "model_name": "LayoutModel",
          "model_module_version": "1.2.0",
          "state": {
            "_model_module": "@jupyter-widgets/base",
            "_model_module_version": "1.2.0",
            "_model_name": "LayoutModel",
            "_view_count": null,
            "_view_module": "@jupyter-widgets/base",
            "_view_module_version": "1.2.0",
            "_view_name": "LayoutView",
            "align_content": null,
            "align_items": null,
            "align_self": null,
            "border": null,
            "bottom": null,
            "display": null,
            "flex": null,
            "flex_flow": null,
            "grid_area": null,
            "grid_auto_columns": null,
            "grid_auto_flow": null,
            "grid_auto_rows": null,
            "grid_column": null,
            "grid_gap": null,
            "grid_row": null,
            "grid_template_areas": null,
            "grid_template_columns": null,
            "grid_template_rows": null,
            "height": null,
            "justify_content": null,
            "justify_items": null,
            "left": null,
            "margin": null,
            "max_height": null,
            "max_width": null,
            "min_height": null,
            "min_width": null,
            "object_fit": null,
            "object_position": null,
            "order": null,
            "overflow": null,
            "overflow_x": null,
            "overflow_y": null,
            "padding": null,
            "right": null,
            "top": null,
            "visibility": null,
            "width": null
          }
        },
        "2d1bd81f372d406f9f9de6c52f137a2c": {
          "model_module": "@jupyter-widgets/controls",
          "model_name": "DescriptionStyleModel",
          "model_module_version": "1.5.0",
          "state": {
            "_model_module": "@jupyter-widgets/controls",
            "_model_module_version": "1.5.0",
            "_model_name": "DescriptionStyleModel",
            "_view_count": null,
            "_view_module": "@jupyter-widgets/base",
            "_view_module_version": "1.2.0",
            "_view_name": "StyleView",
            "description_width": ""
          }
        },
        "beae3f243e034e1885802a285fa67546": {
          "model_module": "@jupyter-widgets/base",
          "model_name": "LayoutModel",
          "model_module_version": "1.2.0",
          "state": {
            "_model_module": "@jupyter-widgets/base",
            "_model_module_version": "1.2.0",
            "_model_name": "LayoutModel",
            "_view_count": null,
            "_view_module": "@jupyter-widgets/base",
            "_view_module_version": "1.2.0",
            "_view_name": "LayoutView",
            "align_content": null,
            "align_items": null,
            "align_self": null,
            "border": null,
            "bottom": null,
            "display": null,
            "flex": null,
            "flex_flow": null,
            "grid_area": null,
            "grid_auto_columns": null,
            "grid_auto_flow": null,
            "grid_auto_rows": null,
            "grid_column": null,
            "grid_gap": null,
            "grid_row": null,
            "grid_template_areas": null,
            "grid_template_columns": null,
            "grid_template_rows": null,
            "height": null,
            "justify_content": null,
            "justify_items": null,
            "left": null,
            "margin": null,
            "max_height": null,
            "max_width": null,
            "min_height": null,
            "min_width": null,
            "object_fit": null,
            "object_position": null,
            "order": null,
            "overflow": null,
            "overflow_x": null,
            "overflow_y": null,
            "padding": null,
            "right": null,
            "top": null,
            "visibility": null,
            "width": null
          }
        },
        "e9600cc0878940b6a957bfdd55d2eec4": {
          "model_module": "@jupyter-widgets/controls",
          "model_name": "ProgressStyleModel",
          "model_module_version": "1.5.0",
          "state": {
            "_model_module": "@jupyter-widgets/controls",
            "_model_module_version": "1.5.0",
            "_model_name": "ProgressStyleModel",
            "_view_count": null,
            "_view_module": "@jupyter-widgets/base",
            "_view_module_version": "1.2.0",
            "_view_name": "StyleView",
            "bar_color": null,
            "description_width": ""
          }
        },
        "00f3b3b5e0ca44319dc9f26cdf037b9c": {
          "model_module": "@jupyter-widgets/base",
          "model_name": "LayoutModel",
          "model_module_version": "1.2.0",
          "state": {
            "_model_module": "@jupyter-widgets/base",
            "_model_module_version": "1.2.0",
            "_model_name": "LayoutModel",
            "_view_count": null,
            "_view_module": "@jupyter-widgets/base",
            "_view_module_version": "1.2.0",
            "_view_name": "LayoutView",
            "align_content": null,
            "align_items": null,
            "align_self": null,
            "border": null,
            "bottom": null,
            "display": null,
            "flex": null,
            "flex_flow": null,
            "grid_area": null,
            "grid_auto_columns": null,
            "grid_auto_flow": null,
            "grid_auto_rows": null,
            "grid_column": null,
            "grid_gap": null,
            "grid_row": null,
            "grid_template_areas": null,
            "grid_template_columns": null,
            "grid_template_rows": null,
            "height": null,
            "justify_content": null,
            "justify_items": null,
            "left": null,
            "margin": null,
            "max_height": null,
            "max_width": null,
            "min_height": null,
            "min_width": null,
            "object_fit": null,
            "object_position": null,
            "order": null,
            "overflow": null,
            "overflow_x": null,
            "overflow_y": null,
            "padding": null,
            "right": null,
            "top": null,
            "visibility": null,
            "width": null
          }
        },
        "5be0a965d29443d8815cd1ce7e9c3b6b": {
          "model_module": "@jupyter-widgets/controls",
          "model_name": "DescriptionStyleModel",
          "model_module_version": "1.5.0",
          "state": {
            "_model_module": "@jupyter-widgets/controls",
            "_model_module_version": "1.5.0",
            "_model_name": "DescriptionStyleModel",
            "_view_count": null,
            "_view_module": "@jupyter-widgets/base",
            "_view_module_version": "1.2.0",
            "_view_name": "StyleView",
            "description_width": ""
          }
        },
        "6a53464d54fb43b6a9c4c310d673ce74": {
          "model_module": "@jupyter-widgets/controls",
          "model_name": "HBoxModel",
          "model_module_version": "1.5.0",
          "state": {
            "_dom_classes": [],
            "_model_module": "@jupyter-widgets/controls",
            "_model_module_version": "1.5.0",
            "_model_name": "HBoxModel",
            "_view_count": null,
            "_view_module": "@jupyter-widgets/controls",
            "_view_module_version": "1.5.0",
            "_view_name": "HBoxView",
            "box_style": "",
            "children": [
              "IPY_MODEL_c54bca6f5cf44de992a114a076e59523",
              "IPY_MODEL_bd7e68b7d5ce4da9b4880450c810fb6d",
              "IPY_MODEL_1f7a9b3305564b349f519e0d697a5533"
            ],
            "layout": "IPY_MODEL_f86a7ff18e344fda92698189cb4d51b2"
          }
        },
        "c54bca6f5cf44de992a114a076e59523": {
          "model_module": "@jupyter-widgets/controls",
          "model_name": "HTMLModel",
          "model_module_version": "1.5.0",
          "state": {
            "_dom_classes": [],
            "_model_module": "@jupyter-widgets/controls",
            "_model_module_version": "1.5.0",
            "_model_name": "HTMLModel",
            "_view_count": null,
            "_view_module": "@jupyter-widgets/controls",
            "_view_module_version": "1.5.0",
            "_view_name": "HTMLView",
            "description": "",
            "description_tooltip": null,
            "layout": "IPY_MODEL_5bef3e2a6f614009873abcb34131dd34",
            "placeholder": "​",
            "style": "IPY_MODEL_5343ac877774488da783d6246d1e59ae",
            "value": "vocab.json: 100%"
          }
        },
        "bd7e68b7d5ce4da9b4880450c810fb6d": {
          "model_module": "@jupyter-widgets/controls",
          "model_name": "FloatProgressModel",
          "model_module_version": "1.5.0",
          "state": {
            "_dom_classes": [],
            "_model_module": "@jupyter-widgets/controls",
            "_model_module_version": "1.5.0",
            "_model_name": "FloatProgressModel",
            "_view_count": null,
            "_view_module": "@jupyter-widgets/controls",
            "_view_module_version": "1.5.0",
            "_view_name": "ProgressView",
            "bar_style": "success",
            "description": "",
            "description_tooltip": null,
            "layout": "IPY_MODEL_fcfa7bb7fbd44abc9c9d8bb9189dea2b",
            "max": 291,
            "min": 0,
            "orientation": "horizontal",
            "style": "IPY_MODEL_b44b6b580fbd4f018be080f7496d46e4",
            "value": 291
          }
        },
        "1f7a9b3305564b349f519e0d697a5533": {
          "model_module": "@jupyter-widgets/controls",
          "model_name": "HTMLModel",
          "model_module_version": "1.5.0",
          "state": {
            "_dom_classes": [],
            "_model_module": "@jupyter-widgets/controls",
            "_model_module_version": "1.5.0",
            "_model_name": "HTMLModel",
            "_view_count": null,
            "_view_module": "@jupyter-widgets/controls",
            "_view_module_version": "1.5.0",
            "_view_name": "HTMLView",
            "description": "",
            "description_tooltip": null,
            "layout": "IPY_MODEL_14ab8374c08745c2a7333502668bf551",
            "placeholder": "​",
            "style": "IPY_MODEL_4d112a7bdafa4630bf076fae57654bbc",
            "value": " 291/291 [00:00&lt;00:00, 9.38kB/s]"
          }
        },
        "f86a7ff18e344fda92698189cb4d51b2": {
          "model_module": "@jupyter-widgets/base",
          "model_name": "LayoutModel",
          "model_module_version": "1.2.0",
          "state": {
            "_model_module": "@jupyter-widgets/base",
            "_model_module_version": "1.2.0",
            "_model_name": "LayoutModel",
            "_view_count": null,
            "_view_module": "@jupyter-widgets/base",
            "_view_module_version": "1.2.0",
            "_view_name": "LayoutView",
            "align_content": null,
            "align_items": null,
            "align_self": null,
            "border": null,
            "bottom": null,
            "display": null,
            "flex": null,
            "flex_flow": null,
            "grid_area": null,
            "grid_auto_columns": null,
            "grid_auto_flow": null,
            "grid_auto_rows": null,
            "grid_column": null,
            "grid_gap": null,
            "grid_row": null,
            "grid_template_areas": null,
            "grid_template_columns": null,
            "grid_template_rows": null,
            "height": null,
            "justify_content": null,
            "justify_items": null,
            "left": null,
            "margin": null,
            "max_height": null,
            "max_width": null,
            "min_height": null,
            "min_width": null,
            "object_fit": null,
            "object_position": null,
            "order": null,
            "overflow": null,
            "overflow_x": null,
            "overflow_y": null,
            "padding": null,
            "right": null,
            "top": null,
            "visibility": null,
            "width": null
          }
        },
        "5bef3e2a6f614009873abcb34131dd34": {
          "model_module": "@jupyter-widgets/base",
          "model_name": "LayoutModel",
          "model_module_version": "1.2.0",
          "state": {
            "_model_module": "@jupyter-widgets/base",
            "_model_module_version": "1.2.0",
            "_model_name": "LayoutModel",
            "_view_count": null,
            "_view_module": "@jupyter-widgets/base",
            "_view_module_version": "1.2.0",
            "_view_name": "LayoutView",
            "align_content": null,
            "align_items": null,
            "align_self": null,
            "border": null,
            "bottom": null,
            "display": null,
            "flex": null,
            "flex_flow": null,
            "grid_area": null,
            "grid_auto_columns": null,
            "grid_auto_flow": null,
            "grid_auto_rows": null,
            "grid_column": null,
            "grid_gap": null,
            "grid_row": null,
            "grid_template_areas": null,
            "grid_template_columns": null,
            "grid_template_rows": null,
            "height": null,
            "justify_content": null,
            "justify_items": null,
            "left": null,
            "margin": null,
            "max_height": null,
            "max_width": null,
            "min_height": null,
            "min_width": null,
            "object_fit": null,
            "object_position": null,
            "order": null,
            "overflow": null,
            "overflow_x": null,
            "overflow_y": null,
            "padding": null,
            "right": null,
            "top": null,
            "visibility": null,
            "width": null
          }
        },
        "5343ac877774488da783d6246d1e59ae": {
          "model_module": "@jupyter-widgets/controls",
          "model_name": "DescriptionStyleModel",
          "model_module_version": "1.5.0",
          "state": {
            "_model_module": "@jupyter-widgets/controls",
            "_model_module_version": "1.5.0",
            "_model_name": "DescriptionStyleModel",
            "_view_count": null,
            "_view_module": "@jupyter-widgets/base",
            "_view_module_version": "1.2.0",
            "_view_name": "StyleView",
            "description_width": ""
          }
        },
        "fcfa7bb7fbd44abc9c9d8bb9189dea2b": {
          "model_module": "@jupyter-widgets/base",
          "model_name": "LayoutModel",
          "model_module_version": "1.2.0",
          "state": {
            "_model_module": "@jupyter-widgets/base",
            "_model_module_version": "1.2.0",
            "_model_name": "LayoutModel",
            "_view_count": null,
            "_view_module": "@jupyter-widgets/base",
            "_view_module_version": "1.2.0",
            "_view_name": "LayoutView",
            "align_content": null,
            "align_items": null,
            "align_self": null,
            "border": null,
            "bottom": null,
            "display": null,
            "flex": null,
            "flex_flow": null,
            "grid_area": null,
            "grid_auto_columns": null,
            "grid_auto_flow": null,
            "grid_auto_rows": null,
            "grid_column": null,
            "grid_gap": null,
            "grid_row": null,
            "grid_template_areas": null,
            "grid_template_columns": null,
            "grid_template_rows": null,
            "height": null,
            "justify_content": null,
            "justify_items": null,
            "left": null,
            "margin": null,
            "max_height": null,
            "max_width": null,
            "min_height": null,
            "min_width": null,
            "object_fit": null,
            "object_position": null,
            "order": null,
            "overflow": null,
            "overflow_x": null,
            "overflow_y": null,
            "padding": null,
            "right": null,
            "top": null,
            "visibility": null,
            "width": null
          }
        },
        "b44b6b580fbd4f018be080f7496d46e4": {
          "model_module": "@jupyter-widgets/controls",
          "model_name": "ProgressStyleModel",
          "model_module_version": "1.5.0",
          "state": {
            "_model_module": "@jupyter-widgets/controls",
            "_model_module_version": "1.5.0",
            "_model_name": "ProgressStyleModel",
            "_view_count": null,
            "_view_module": "@jupyter-widgets/base",
            "_view_module_version": "1.2.0",
            "_view_name": "StyleView",
            "bar_color": null,
            "description_width": ""
          }
        },
        "14ab8374c08745c2a7333502668bf551": {
          "model_module": "@jupyter-widgets/base",
          "model_name": "LayoutModel",
          "model_module_version": "1.2.0",
          "state": {
            "_model_module": "@jupyter-widgets/base",
            "_model_module_version": "1.2.0",
            "_model_name": "LayoutModel",
            "_view_count": null,
            "_view_module": "@jupyter-widgets/base",
            "_view_module_version": "1.2.0",
            "_view_name": "LayoutView",
            "align_content": null,
            "align_items": null,
            "align_self": null,
            "border": null,
            "bottom": null,
            "display": null,
            "flex": null,
            "flex_flow": null,
            "grid_area": null,
            "grid_auto_columns": null,
            "grid_auto_flow": null,
            "grid_auto_rows": null,
            "grid_column": null,
            "grid_gap": null,
            "grid_row": null,
            "grid_template_areas": null,
            "grid_template_columns": null,
            "grid_template_rows": null,
            "height": null,
            "justify_content": null,
            "justify_items": null,
            "left": null,
            "margin": null,
            "max_height": null,
            "max_width": null,
            "min_height": null,
            "min_width": null,
            "object_fit": null,
            "object_position": null,
            "order": null,
            "overflow": null,
            "overflow_x": null,
            "overflow_y": null,
            "padding": null,
            "right": null,
            "top": null,
            "visibility": null,
            "width": null
          }
        },
        "4d112a7bdafa4630bf076fae57654bbc": {
          "model_module": "@jupyter-widgets/controls",
          "model_name": "DescriptionStyleModel",
          "model_module_version": "1.5.0",
          "state": {
            "_model_module": "@jupyter-widgets/controls",
            "_model_module_version": "1.5.0",
            "_model_name": "DescriptionStyleModel",
            "_view_count": null,
            "_view_module": "@jupyter-widgets/base",
            "_view_module_version": "1.2.0",
            "_view_name": "StyleView",
            "description_width": ""
          }
        },
        "35bb239f1b6c4d15a972360418cfcd6b": {
          "model_module": "@jupyter-widgets/controls",
          "model_name": "HBoxModel",
          "model_module_version": "1.5.0",
          "state": {
            "_dom_classes": [],
            "_model_module": "@jupyter-widgets/controls",
            "_model_module_version": "1.5.0",
            "_model_name": "HBoxModel",
            "_view_count": null,
            "_view_module": "@jupyter-widgets/controls",
            "_view_module_version": "1.5.0",
            "_view_name": "HBoxView",
            "box_style": "",
            "children": [
              "IPY_MODEL_5b0bf7375dc14cd0b1980bf6c7cf5b10",
              "IPY_MODEL_32bfccc5e4314b959189ecc75a92221b",
              "IPY_MODEL_9e2c3c5c381346bf9a634a68a0056e15"
            ],
            "layout": "IPY_MODEL_e43a16c69c5c4ad18608ec52a6982453"
          }
        },
        "5b0bf7375dc14cd0b1980bf6c7cf5b10": {
          "model_module": "@jupyter-widgets/controls",
          "model_name": "HTMLModel",
          "model_module_version": "1.5.0",
          "state": {
            "_dom_classes": [],
            "_model_module": "@jupyter-widgets/controls",
            "_model_module_version": "1.5.0",
            "_model_name": "HTMLModel",
            "_view_count": null,
            "_view_module": "@jupyter-widgets/controls",
            "_view_module_version": "1.5.0",
            "_view_name": "HTMLView",
            "description": "",
            "description_tooltip": null,
            "layout": "IPY_MODEL_14c9784178fa4618b49c0c662f333407",
            "placeholder": "​",
            "style": "IPY_MODEL_0f6d84962c7744199d34eac49febd810",
            "value": "special_tokens_map.json: 100%"
          }
        },
        "32bfccc5e4314b959189ecc75a92221b": {
          "model_module": "@jupyter-widgets/controls",
          "model_name": "FloatProgressModel",
          "model_module_version": "1.5.0",
          "state": {
            "_dom_classes": [],
            "_model_module": "@jupyter-widgets/controls",
            "_model_module_version": "1.5.0",
            "_model_name": "FloatProgressModel",
            "_view_count": null,
            "_view_module": "@jupyter-widgets/controls",
            "_view_module_version": "1.5.0",
            "_view_name": "ProgressView",
            "bar_style": "success",
            "description": "",
            "description_tooltip": null,
            "layout": "IPY_MODEL_9fae4dc7569146f0a0214ac8971753aa",
            "max": 85,
            "min": 0,
            "orientation": "horizontal",
            "style": "IPY_MODEL_0a411b0658964228a6b5e317d537b7de",
            "value": 85
          }
        },
        "9e2c3c5c381346bf9a634a68a0056e15": {
          "model_module": "@jupyter-widgets/controls",
          "model_name": "HTMLModel",
          "model_module_version": "1.5.0",
          "state": {
            "_dom_classes": [],
            "_model_module": "@jupyter-widgets/controls",
            "_model_module_version": "1.5.0",
            "_model_name": "HTMLModel",
            "_view_count": null,
            "_view_module": "@jupyter-widgets/controls",
            "_view_module_version": "1.5.0",
            "_view_name": "HTMLView",
            "description": "",
            "description_tooltip": null,
            "layout": "IPY_MODEL_5584b9aa84a345a4b5688cbdd4de9724",
            "placeholder": "​",
            "style": "IPY_MODEL_13cace91956640e6a60e52ba6371adbd",
            "value": " 85.0/85.0 [00:00&lt;00:00, 1.92kB/s]"
          }
        },
        "e43a16c69c5c4ad18608ec52a6982453": {
          "model_module": "@jupyter-widgets/base",
          "model_name": "LayoutModel",
          "model_module_version": "1.2.0",
          "state": {
            "_model_module": "@jupyter-widgets/base",
            "_model_module_version": "1.2.0",
            "_model_name": "LayoutModel",
            "_view_count": null,
            "_view_module": "@jupyter-widgets/base",
            "_view_module_version": "1.2.0",
            "_view_name": "LayoutView",
            "align_content": null,
            "align_items": null,
            "align_self": null,
            "border": null,
            "bottom": null,
            "display": null,
            "flex": null,
            "flex_flow": null,
            "grid_area": null,
            "grid_auto_columns": null,
            "grid_auto_flow": null,
            "grid_auto_rows": null,
            "grid_column": null,
            "grid_gap": null,
            "grid_row": null,
            "grid_template_areas": null,
            "grid_template_columns": null,
            "grid_template_rows": null,
            "height": null,
            "justify_content": null,
            "justify_items": null,
            "left": null,
            "margin": null,
            "max_height": null,
            "max_width": null,
            "min_height": null,
            "min_width": null,
            "object_fit": null,
            "object_position": null,
            "order": null,
            "overflow": null,
            "overflow_x": null,
            "overflow_y": null,
            "padding": null,
            "right": null,
            "top": null,
            "visibility": null,
            "width": null
          }
        },
        "14c9784178fa4618b49c0c662f333407": {
          "model_module": "@jupyter-widgets/base",
          "model_name": "LayoutModel",
          "model_module_version": "1.2.0",
          "state": {
            "_model_module": "@jupyter-widgets/base",
            "_model_module_version": "1.2.0",
            "_model_name": "LayoutModel",
            "_view_count": null,
            "_view_module": "@jupyter-widgets/base",
            "_view_module_version": "1.2.0",
            "_view_name": "LayoutView",
            "align_content": null,
            "align_items": null,
            "align_self": null,
            "border": null,
            "bottom": null,
            "display": null,
            "flex": null,
            "flex_flow": null,
            "grid_area": null,
            "grid_auto_columns": null,
            "grid_auto_flow": null,
            "grid_auto_rows": null,
            "grid_column": null,
            "grid_gap": null,
            "grid_row": null,
            "grid_template_areas": null,
            "grid_template_columns": null,
            "grid_template_rows": null,
            "height": null,
            "justify_content": null,
            "justify_items": null,
            "left": null,
            "margin": null,
            "max_height": null,
            "max_width": null,
            "min_height": null,
            "min_width": null,
            "object_fit": null,
            "object_position": null,
            "order": null,
            "overflow": null,
            "overflow_x": null,
            "overflow_y": null,
            "padding": null,
            "right": null,
            "top": null,
            "visibility": null,
            "width": null
          }
        },
        "0f6d84962c7744199d34eac49febd810": {
          "model_module": "@jupyter-widgets/controls",
          "model_name": "DescriptionStyleModel",
          "model_module_version": "1.5.0",
          "state": {
            "_model_module": "@jupyter-widgets/controls",
            "_model_module_version": "1.5.0",
            "_model_name": "DescriptionStyleModel",
            "_view_count": null,
            "_view_module": "@jupyter-widgets/base",
            "_view_module_version": "1.2.0",
            "_view_name": "StyleView",
            "description_width": ""
          }
        },
        "9fae4dc7569146f0a0214ac8971753aa": {
          "model_module": "@jupyter-widgets/base",
          "model_name": "LayoutModel",
          "model_module_version": "1.2.0",
          "state": {
            "_model_module": "@jupyter-widgets/base",
            "_model_module_version": "1.2.0",
            "_model_name": "LayoutModel",
            "_view_count": null,
            "_view_module": "@jupyter-widgets/base",
            "_view_module_version": "1.2.0",
            "_view_name": "LayoutView",
            "align_content": null,
            "align_items": null,
            "align_self": null,
            "border": null,
            "bottom": null,
            "display": null,
            "flex": null,
            "flex_flow": null,
            "grid_area": null,
            "grid_auto_columns": null,
            "grid_auto_flow": null,
            "grid_auto_rows": null,
            "grid_column": null,
            "grid_gap": null,
            "grid_row": null,
            "grid_template_areas": null,
            "grid_template_columns": null,
            "grid_template_rows": null,
            "height": null,
            "justify_content": null,
            "justify_items": null,
            "left": null,
            "margin": null,
            "max_height": null,
            "max_width": null,
            "min_height": null,
            "min_width": null,
            "object_fit": null,
            "object_position": null,
            "order": null,
            "overflow": null,
            "overflow_x": null,
            "overflow_y": null,
            "padding": null,
            "right": null,
            "top": null,
            "visibility": null,
            "width": null
          }
        },
        "0a411b0658964228a6b5e317d537b7de": {
          "model_module": "@jupyter-widgets/controls",
          "model_name": "ProgressStyleModel",
          "model_module_version": "1.5.0",
          "state": {
            "_model_module": "@jupyter-widgets/controls",
            "_model_module_version": "1.5.0",
            "_model_name": "ProgressStyleModel",
            "_view_count": null,
            "_view_module": "@jupyter-widgets/base",
            "_view_module_version": "1.2.0",
            "_view_name": "StyleView",
            "bar_color": null,
            "description_width": ""
          }
        },
        "5584b9aa84a345a4b5688cbdd4de9724": {
          "model_module": "@jupyter-widgets/base",
          "model_name": "LayoutModel",
          "model_module_version": "1.2.0",
          "state": {
            "_model_module": "@jupyter-widgets/base",
            "_model_module_version": "1.2.0",
            "_model_name": "LayoutModel",
            "_view_count": null,
            "_view_module": "@jupyter-widgets/base",
            "_view_module_version": "1.2.0",
            "_view_name": "LayoutView",
            "align_content": null,
            "align_items": null,
            "align_self": null,
            "border": null,
            "bottom": null,
            "display": null,
            "flex": null,
            "flex_flow": null,
            "grid_area": null,
            "grid_auto_columns": null,
            "grid_auto_flow": null,
            "grid_auto_rows": null,
            "grid_column": null,
            "grid_gap": null,
            "grid_row": null,
            "grid_template_areas": null,
            "grid_template_columns": null,
            "grid_template_rows": null,
            "height": null,
            "justify_content": null,
            "justify_items": null,
            "left": null,
            "margin": null,
            "max_height": null,
            "max_width": null,
            "min_height": null,
            "min_width": null,
            "object_fit": null,
            "object_position": null,
            "order": null,
            "overflow": null,
            "overflow_x": null,
            "overflow_y": null,
            "padding": null,
            "right": null,
            "top": null,
            "visibility": null,
            "width": null
          }
        },
        "13cace91956640e6a60e52ba6371adbd": {
          "model_module": "@jupyter-widgets/controls",
          "model_name": "DescriptionStyleModel",
          "model_module_version": "1.5.0",
          "state": {
            "_model_module": "@jupyter-widgets/controls",
            "_model_module_version": "1.5.0",
            "_model_name": "DescriptionStyleModel",
            "_view_count": null,
            "_view_module": "@jupyter-widgets/base",
            "_view_module_version": "1.2.0",
            "_view_name": "StyleView",
            "description_width": ""
          }
        },
        "90a5f236abea43b2bd32467fc27bfa60": {
          "model_module": "@jupyter-widgets/controls",
          "model_name": "HBoxModel",
          "model_module_version": "1.5.0",
          "state": {
            "_dom_classes": [],
            "_model_module": "@jupyter-widgets/controls",
            "_model_module_version": "1.5.0",
            "_model_name": "HBoxModel",
            "_view_count": null,
            "_view_module": "@jupyter-widgets/controls",
            "_view_module_version": "1.5.0",
            "_view_name": "HBoxView",
            "box_style": "",
            "children": [
              "IPY_MODEL_17caa5deeab74fb2b6069ae496419f90",
              "IPY_MODEL_e584e55edcd94040bc58a275c849ea65",
              "IPY_MODEL_8bbfc99d329a4804a64b4cedcaaeb422"
            ],
            "layout": "IPY_MODEL_5c7d2e3e17e348c68f2d0a79df714bc6"
          }
        },
        "17caa5deeab74fb2b6069ae496419f90": {
          "model_module": "@jupyter-widgets/controls",
          "model_name": "HTMLModel",
          "model_module_version": "1.5.0",
          "state": {
            "_dom_classes": [],
            "_model_module": "@jupyter-widgets/controls",
            "_model_module_version": "1.5.0",
            "_model_name": "HTMLModel",
            "_view_count": null,
            "_view_module": "@jupyter-widgets/controls",
            "_view_module_version": "1.5.0",
            "_view_name": "HTMLView",
            "description": "",
            "description_tooltip": null,
            "layout": "IPY_MODEL_407ae1d7e6db4e268c035fc06d4305c8",
            "placeholder": "​",
            "style": "IPY_MODEL_e7327823de6b40939bdcb3dc73ed53aa",
            "value": "config.json: 100%"
          }
        },
        "e584e55edcd94040bc58a275c849ea65": {
          "model_module": "@jupyter-widgets/controls",
          "model_name": "FloatProgressModel",
          "model_module_version": "1.5.0",
          "state": {
            "_dom_classes": [],
            "_model_module": "@jupyter-widgets/controls",
            "_model_module_version": "1.5.0",
            "_model_name": "FloatProgressModel",
            "_view_count": null,
            "_view_module": "@jupyter-widgets/controls",
            "_view_module_version": "1.5.0",
            "_view_name": "ProgressView",
            "bar_style": "success",
            "description": "",
            "description_tooltip": null,
            "layout": "IPY_MODEL_c8eb3bf17f9d41d5852a990ce20fa1ac",
            "max": 1596,
            "min": 0,
            "orientation": "horizontal",
            "style": "IPY_MODEL_012e5848e1544058b8c4bbc78fc8f1ed",
            "value": 1596
          }
        },
        "8bbfc99d329a4804a64b4cedcaaeb422": {
          "model_module": "@jupyter-widgets/controls",
          "model_name": "HTMLModel",
          "model_module_version": "1.5.0",
          "state": {
            "_dom_classes": [],
            "_model_module": "@jupyter-widgets/controls",
            "_model_module_version": "1.5.0",
            "_model_name": "HTMLModel",
            "_view_count": null,
            "_view_module": "@jupyter-widgets/controls",
            "_view_module_version": "1.5.0",
            "_view_name": "HTMLView",
            "description": "",
            "description_tooltip": null,
            "layout": "IPY_MODEL_5492181485904d73a9592438d6fd0a65",
            "placeholder": "​",
            "style": "IPY_MODEL_b16503d4b6f4480f8108882357d28e87",
            "value": " 1.60k/1.60k [00:00&lt;00:00, 37.9kB/s]"
          }
        },
        "5c7d2e3e17e348c68f2d0a79df714bc6": {
          "model_module": "@jupyter-widgets/base",
          "model_name": "LayoutModel",
          "model_module_version": "1.2.0",
          "state": {
            "_model_module": "@jupyter-widgets/base",
            "_model_module_version": "1.2.0",
            "_model_name": "LayoutModel",
            "_view_count": null,
            "_view_module": "@jupyter-widgets/base",
            "_view_module_version": "1.2.0",
            "_view_name": "LayoutView",
            "align_content": null,
            "align_items": null,
            "align_self": null,
            "border": null,
            "bottom": null,
            "display": null,
            "flex": null,
            "flex_flow": null,
            "grid_area": null,
            "grid_auto_columns": null,
            "grid_auto_flow": null,
            "grid_auto_rows": null,
            "grid_column": null,
            "grid_gap": null,
            "grid_row": null,
            "grid_template_areas": null,
            "grid_template_columns": null,
            "grid_template_rows": null,
            "height": null,
            "justify_content": null,
            "justify_items": null,
            "left": null,
            "margin": null,
            "max_height": null,
            "max_width": null,
            "min_height": null,
            "min_width": null,
            "object_fit": null,
            "object_position": null,
            "order": null,
            "overflow": null,
            "overflow_x": null,
            "overflow_y": null,
            "padding": null,
            "right": null,
            "top": null,
            "visibility": null,
            "width": null
          }
        },
        "407ae1d7e6db4e268c035fc06d4305c8": {
          "model_module": "@jupyter-widgets/base",
          "model_name": "LayoutModel",
          "model_module_version": "1.2.0",
          "state": {
            "_model_module": "@jupyter-widgets/base",
            "_model_module_version": "1.2.0",
            "_model_name": "LayoutModel",
            "_view_count": null,
            "_view_module": "@jupyter-widgets/base",
            "_view_module_version": "1.2.0",
            "_view_name": "LayoutView",
            "align_content": null,
            "align_items": null,
            "align_self": null,
            "border": null,
            "bottom": null,
            "display": null,
            "flex": null,
            "flex_flow": null,
            "grid_area": null,
            "grid_auto_columns": null,
            "grid_auto_flow": null,
            "grid_auto_rows": null,
            "grid_column": null,
            "grid_gap": null,
            "grid_row": null,
            "grid_template_areas": null,
            "grid_template_columns": null,
            "grid_template_rows": null,
            "height": null,
            "justify_content": null,
            "justify_items": null,
            "left": null,
            "margin": null,
            "max_height": null,
            "max_width": null,
            "min_height": null,
            "min_width": null,
            "object_fit": null,
            "object_position": null,
            "order": null,
            "overflow": null,
            "overflow_x": null,
            "overflow_y": null,
            "padding": null,
            "right": null,
            "top": null,
            "visibility": null,
            "width": null
          }
        },
        "e7327823de6b40939bdcb3dc73ed53aa": {
          "model_module": "@jupyter-widgets/controls",
          "model_name": "DescriptionStyleModel",
          "model_module_version": "1.5.0",
          "state": {
            "_model_module": "@jupyter-widgets/controls",
            "_model_module_version": "1.5.0",
            "_model_name": "DescriptionStyleModel",
            "_view_count": null,
            "_view_module": "@jupyter-widgets/base",
            "_view_module_version": "1.2.0",
            "_view_name": "StyleView",
            "description_width": ""
          }
        },
        "c8eb3bf17f9d41d5852a990ce20fa1ac": {
          "model_module": "@jupyter-widgets/base",
          "model_name": "LayoutModel",
          "model_module_version": "1.2.0",
          "state": {
            "_model_module": "@jupyter-widgets/base",
            "_model_module_version": "1.2.0",
            "_model_name": "LayoutModel",
            "_view_count": null,
            "_view_module": "@jupyter-widgets/base",
            "_view_module_version": "1.2.0",
            "_view_name": "LayoutView",
            "align_content": null,
            "align_items": null,
            "align_self": null,
            "border": null,
            "bottom": null,
            "display": null,
            "flex": null,
            "flex_flow": null,
            "grid_area": null,
            "grid_auto_columns": null,
            "grid_auto_flow": null,
            "grid_auto_rows": null,
            "grid_column": null,
            "grid_gap": null,
            "grid_row": null,
            "grid_template_areas": null,
            "grid_template_columns": null,
            "grid_template_rows": null,
            "height": null,
            "justify_content": null,
            "justify_items": null,
            "left": null,
            "margin": null,
            "max_height": null,
            "max_width": null,
            "min_height": null,
            "min_width": null,
            "object_fit": null,
            "object_position": null,
            "order": null,
            "overflow": null,
            "overflow_x": null,
            "overflow_y": null,
            "padding": null,
            "right": null,
            "top": null,
            "visibility": null,
            "width": null
          }
        },
        "012e5848e1544058b8c4bbc78fc8f1ed": {
          "model_module": "@jupyter-widgets/controls",
          "model_name": "ProgressStyleModel",
          "model_module_version": "1.5.0",
          "state": {
            "_model_module": "@jupyter-widgets/controls",
            "_model_module_version": "1.5.0",
            "_model_name": "ProgressStyleModel",
            "_view_count": null,
            "_view_module": "@jupyter-widgets/base",
            "_view_module_version": "1.2.0",
            "_view_name": "StyleView",
            "bar_color": null,
            "description_width": ""
          }
        },
        "5492181485904d73a9592438d6fd0a65": {
          "model_module": "@jupyter-widgets/base",
          "model_name": "LayoutModel",
          "model_module_version": "1.2.0",
          "state": {
            "_model_module": "@jupyter-widgets/base",
            "_model_module_version": "1.2.0",
            "_model_name": "LayoutModel",
            "_view_count": null,
            "_view_module": "@jupyter-widgets/base",
            "_view_module_version": "1.2.0",
            "_view_name": "LayoutView",
            "align_content": null,
            "align_items": null,
            "align_self": null,
            "border": null,
            "bottom": null,
            "display": null,
            "flex": null,
            "flex_flow": null,
            "grid_area": null,
            "grid_auto_columns": null,
            "grid_auto_flow": null,
            "grid_auto_rows": null,
            "grid_column": null,
            "grid_gap": null,
            "grid_row": null,
            "grid_template_areas": null,
            "grid_template_columns": null,
            "grid_template_rows": null,
            "height": null,
            "justify_content": null,
            "justify_items": null,
            "left": null,
            "margin": null,
            "max_height": null,
            "max_width": null,
            "min_height": null,
            "min_width": null,
            "object_fit": null,
            "object_position": null,
            "order": null,
            "overflow": null,
            "overflow_x": null,
            "overflow_y": null,
            "padding": null,
            "right": null,
            "top": null,
            "visibility": null,
            "width": null
          }
        },
        "b16503d4b6f4480f8108882357d28e87": {
          "model_module": "@jupyter-widgets/controls",
          "model_name": "DescriptionStyleModel",
          "model_module_version": "1.5.0",
          "state": {
            "_model_module": "@jupyter-widgets/controls",
            "_model_module_version": "1.5.0",
            "_model_name": "DescriptionStyleModel",
            "_view_count": null,
            "_view_module": "@jupyter-widgets/base",
            "_view_module_version": "1.2.0",
            "_view_name": "StyleView",
            "description_width": ""
          }
        },
        "178084e2781e400e910f84746a10d16d": {
          "model_module": "@jupyter-widgets/controls",
          "model_name": "HBoxModel",
          "model_module_version": "1.5.0",
          "state": {
            "_dom_classes": [],
            "_model_module": "@jupyter-widgets/controls",
            "_model_module_version": "1.5.0",
            "_model_name": "HBoxModel",
            "_view_count": null,
            "_view_module": "@jupyter-widgets/controls",
            "_view_module_version": "1.5.0",
            "_view_name": "HBoxView",
            "box_style": "",
            "children": [
              "IPY_MODEL_33a49dce960b4e9bbcc4ee44845d4ad3",
              "IPY_MODEL_9924b2ca81b34b07b7e342f0d8e5a65a",
              "IPY_MODEL_c5d8d474dd674d89aaa78d2e95515f03"
            ],
            "layout": "IPY_MODEL_3f7b9685eb004481843228fb10e5a5df"
          }
        },
        "33a49dce960b4e9bbcc4ee44845d4ad3": {
          "model_module": "@jupyter-widgets/controls",
          "model_name": "HTMLModel",
          "model_module_version": "1.5.0",
          "state": {
            "_dom_classes": [],
            "_model_module": "@jupyter-widgets/controls",
            "_model_module_version": "1.5.0",
            "_model_name": "HTMLModel",
            "_view_count": null,
            "_view_module": "@jupyter-widgets/controls",
            "_view_module_version": "1.5.0",
            "_view_name": "HTMLView",
            "description": "",
            "description_tooltip": null,
            "layout": "IPY_MODEL_f32e63d5552948139a886491468374bf",
            "placeholder": "​",
            "style": "IPY_MODEL_1187b6a4cbec45909c19c8d2be02a941",
            "value": "model.safetensors: 100%"
          }
        },
        "9924b2ca81b34b07b7e342f0d8e5a65a": {
          "model_module": "@jupyter-widgets/controls",
          "model_name": "FloatProgressModel",
          "model_module_version": "1.5.0",
          "state": {
            "_dom_classes": [],
            "_model_module": "@jupyter-widgets/controls",
            "_model_module_version": "1.5.0",
            "_model_name": "FloatProgressModel",
            "_view_count": null,
            "_view_module": "@jupyter-widgets/controls",
            "_view_module_version": "1.5.0",
            "_view_name": "ProgressView",
            "bar_style": "success",
            "description": "",
            "description_tooltip": null,
            "layout": "IPY_MODEL_84b3b5b384804c8d8ba38747e1bd554f",
            "max": 377607901,
            "min": 0,
            "orientation": "horizontal",
            "style": "IPY_MODEL_cbbf5de0ad4d475688e7a4e7ffb9406d",
            "value": 377607901
          }
        },
        "c5d8d474dd674d89aaa78d2e95515f03": {
          "model_module": "@jupyter-widgets/controls",
          "model_name": "HTMLModel",
          "model_module_version": "1.5.0",
          "state": {
            "_dom_classes": [],
            "_model_module": "@jupyter-widgets/controls",
            "_model_module_version": "1.5.0",
            "_model_name": "HTMLModel",
            "_view_count": null,
            "_view_module": "@jupyter-widgets/controls",
            "_view_module_version": "1.5.0",
            "_view_name": "HTMLView",
            "description": "",
            "description_tooltip": null,
            "layout": "IPY_MODEL_56c676e9060e4eaeb02611d6320cd0d3",
            "placeholder": "​",
            "style": "IPY_MODEL_60507a5fa6d843fba17e72443c94239d",
            "value": " 378M/378M [00:05&lt;00:00, 95.0MB/s]"
          }
        },
        "3f7b9685eb004481843228fb10e5a5df": {
          "model_module": "@jupyter-widgets/base",
          "model_name": "LayoutModel",
          "model_module_version": "1.2.0",
          "state": {
            "_model_module": "@jupyter-widgets/base",
            "_model_module_version": "1.2.0",
            "_model_name": "LayoutModel",
            "_view_count": null,
            "_view_module": "@jupyter-widgets/base",
            "_view_module_version": "1.2.0",
            "_view_name": "LayoutView",
            "align_content": null,
            "align_items": null,
            "align_self": null,
            "border": null,
            "bottom": null,
            "display": null,
            "flex": null,
            "flex_flow": null,
            "grid_area": null,
            "grid_auto_columns": null,
            "grid_auto_flow": null,
            "grid_auto_rows": null,
            "grid_column": null,
            "grid_gap": null,
            "grid_row": null,
            "grid_template_areas": null,
            "grid_template_columns": null,
            "grid_template_rows": null,
            "height": null,
            "justify_content": null,
            "justify_items": null,
            "left": null,
            "margin": null,
            "max_height": null,
            "max_width": null,
            "min_height": null,
            "min_width": null,
            "object_fit": null,
            "object_position": null,
            "order": null,
            "overflow": null,
            "overflow_x": null,
            "overflow_y": null,
            "padding": null,
            "right": null,
            "top": null,
            "visibility": null,
            "width": null
          }
        },
        "f32e63d5552948139a886491468374bf": {
          "model_module": "@jupyter-widgets/base",
          "model_name": "LayoutModel",
          "model_module_version": "1.2.0",
          "state": {
            "_model_module": "@jupyter-widgets/base",
            "_model_module_version": "1.2.0",
            "_model_name": "LayoutModel",
            "_view_count": null,
            "_view_module": "@jupyter-widgets/base",
            "_view_module_version": "1.2.0",
            "_view_name": "LayoutView",
            "align_content": null,
            "align_items": null,
            "align_self": null,
            "border": null,
            "bottom": null,
            "display": null,
            "flex": null,
            "flex_flow": null,
            "grid_area": null,
            "grid_auto_columns": null,
            "grid_auto_flow": null,
            "grid_auto_rows": null,
            "grid_column": null,
            "grid_gap": null,
            "grid_row": null,
            "grid_template_areas": null,
            "grid_template_columns": null,
            "grid_template_rows": null,
            "height": null,
            "justify_content": null,
            "justify_items": null,
            "left": null,
            "margin": null,
            "max_height": null,
            "max_width": null,
            "min_height": null,
            "min_width": null,
            "object_fit": null,
            "object_position": null,
            "order": null,
            "overflow": null,
            "overflow_x": null,
            "overflow_y": null,
            "padding": null,
            "right": null,
            "top": null,
            "visibility": null,
            "width": null
          }
        },
        "1187b6a4cbec45909c19c8d2be02a941": {
          "model_module": "@jupyter-widgets/controls",
          "model_name": "DescriptionStyleModel",
          "model_module_version": "1.5.0",
          "state": {
            "_model_module": "@jupyter-widgets/controls",
            "_model_module_version": "1.5.0",
            "_model_name": "DescriptionStyleModel",
            "_view_count": null,
            "_view_module": "@jupyter-widgets/base",
            "_view_module_version": "1.2.0",
            "_view_name": "StyleView",
            "description_width": ""
          }
        },
        "84b3b5b384804c8d8ba38747e1bd554f": {
          "model_module": "@jupyter-widgets/base",
          "model_name": "LayoutModel",
          "model_module_version": "1.2.0",
          "state": {
            "_model_module": "@jupyter-widgets/base",
            "_model_module_version": "1.2.0",
            "_model_name": "LayoutModel",
            "_view_count": null,
            "_view_module": "@jupyter-widgets/base",
            "_view_module_version": "1.2.0",
            "_view_name": "LayoutView",
            "align_content": null,
            "align_items": null,
            "align_self": null,
            "border": null,
            "bottom": null,
            "display": null,
            "flex": null,
            "flex_flow": null,
            "grid_area": null,
            "grid_auto_columns": null,
            "grid_auto_flow": null,
            "grid_auto_rows": null,
            "grid_column": null,
            "grid_gap": null,
            "grid_row": null,
            "grid_template_areas": null,
            "grid_template_columns": null,
            "grid_template_rows": null,
            "height": null,
            "justify_content": null,
            "justify_items": null,
            "left": null,
            "margin": null,
            "max_height": null,
            "max_width": null,
            "min_height": null,
            "min_width": null,
            "object_fit": null,
            "object_position": null,
            "order": null,
            "overflow": null,
            "overflow_x": null,
            "overflow_y": null,
            "padding": null,
            "right": null,
            "top": null,
            "visibility": null,
            "width": null
          }
        },
        "cbbf5de0ad4d475688e7a4e7ffb9406d": {
          "model_module": "@jupyter-widgets/controls",
          "model_name": "ProgressStyleModel",
          "model_module_version": "1.5.0",
          "state": {
            "_model_module": "@jupyter-widgets/controls",
            "_model_module_version": "1.5.0",
            "_model_name": "ProgressStyleModel",
            "_view_count": null,
            "_view_module": "@jupyter-widgets/base",
            "_view_module_version": "1.2.0",
            "_view_name": "StyleView",
            "bar_color": null,
            "description_width": ""
          }
        },
        "56c676e9060e4eaeb02611d6320cd0d3": {
          "model_module": "@jupyter-widgets/base",
          "model_name": "LayoutModel",
          "model_module_version": "1.2.0",
          "state": {
            "_model_module": "@jupyter-widgets/base",
            "_model_module_version": "1.2.0",
            "_model_name": "LayoutModel",
            "_view_count": null,
            "_view_module": "@jupyter-widgets/base",
            "_view_module_version": "1.2.0",
            "_view_name": "LayoutView",
            "align_content": null,
            "align_items": null,
            "align_self": null,
            "border": null,
            "bottom": null,
            "display": null,
            "flex": null,
            "flex_flow": null,
            "grid_area": null,
            "grid_auto_columns": null,
            "grid_auto_flow": null,
            "grid_auto_rows": null,
            "grid_column": null,
            "grid_gap": null,
            "grid_row": null,
            "grid_template_areas": null,
            "grid_template_columns": null,
            "grid_template_rows": null,
            "height": null,
            "justify_content": null,
            "justify_items": null,
            "left": null,
            "margin": null,
            "max_height": null,
            "max_width": null,
            "min_height": null,
            "min_width": null,
            "object_fit": null,
            "object_position": null,
            "order": null,
            "overflow": null,
            "overflow_x": null,
            "overflow_y": null,
            "padding": null,
            "right": null,
            "top": null,
            "visibility": null,
            "width": null
          }
        },
        "60507a5fa6d843fba17e72443c94239d": {
          "model_module": "@jupyter-widgets/controls",
          "model_name": "DescriptionStyleModel",
          "model_module_version": "1.5.0",
          "state": {
            "_model_module": "@jupyter-widgets/controls",
            "_model_module_version": "1.5.0",
            "_model_name": "DescriptionStyleModel",
            "_view_count": null,
            "_view_module": "@jupyter-widgets/base",
            "_view_module_version": "1.2.0",
            "_view_name": "StyleView",
            "description_width": ""
          }
        }
      }
    }
  },
  "cells": [
    {
      "cell_type": "markdown",
      "source": [
        "<h1> SPEECH TO TEXT"
      ],
      "metadata": {
        "id": "qJLCDakGUFIi"
      }
    },
    {
      "cell_type": "code",
      "metadata": {
        "id": "JPHnyUBviH0c"
      },
      "source": [
        "! pip install -q transformers"
      ],
      "execution_count": null,
      "outputs": []
    },
    {
      "cell_type": "code",
      "metadata": {
        "id": "b1dL-TWaiL2_"
      },
      "source": [
        "import librosa\n",
        "import torch\n",
        "from transformers import Wav2Vec2ForCTC, Wav2Vec2Tokenizer"
      ],
      "execution_count": null,
      "outputs": []
    },
    {
      "cell_type": "code",
      "metadata": {
        "id": "_7_kYLbkiTBF",
        "colab": {
          "base_uri": "https://localhost:8080/",
          "height": 475,
          "referenced_widgets": [
            "e8c385feb3b0472b965bb54ca1ecc0e6",
            "7308fa1515c0498aadad116f76b78a1e",
            "5b577050312349a8a7a5a867698c956f",
            "6b2b940925004c37b49cb7de22d6a252",
            "3ac99042dbe1469abe0356568049b16e",
            "812109684c974b3e9ed046743df756f0",
            "2d1bd81f372d406f9f9de6c52f137a2c",
            "beae3f243e034e1885802a285fa67546",
            "e9600cc0878940b6a957bfdd55d2eec4",
            "00f3b3b5e0ca44319dc9f26cdf037b9c",
            "5be0a965d29443d8815cd1ce7e9c3b6b",
            "6a53464d54fb43b6a9c4c310d673ce74",
            "c54bca6f5cf44de992a114a076e59523",
            "bd7e68b7d5ce4da9b4880450c810fb6d",
            "1f7a9b3305564b349f519e0d697a5533",
            "f86a7ff18e344fda92698189cb4d51b2",
            "5bef3e2a6f614009873abcb34131dd34",
            "5343ac877774488da783d6246d1e59ae",
            "fcfa7bb7fbd44abc9c9d8bb9189dea2b",
            "b44b6b580fbd4f018be080f7496d46e4",
            "14ab8374c08745c2a7333502668bf551",
            "4d112a7bdafa4630bf076fae57654bbc",
            "35bb239f1b6c4d15a972360418cfcd6b",
            "5b0bf7375dc14cd0b1980bf6c7cf5b10",
            "32bfccc5e4314b959189ecc75a92221b",
            "9e2c3c5c381346bf9a634a68a0056e15",
            "e43a16c69c5c4ad18608ec52a6982453",
            "14c9784178fa4618b49c0c662f333407",
            "0f6d84962c7744199d34eac49febd810",
            "9fae4dc7569146f0a0214ac8971753aa",
            "0a411b0658964228a6b5e317d537b7de",
            "5584b9aa84a345a4b5688cbdd4de9724",
            "13cace91956640e6a60e52ba6371adbd",
            "90a5f236abea43b2bd32467fc27bfa60",
            "17caa5deeab74fb2b6069ae496419f90",
            "e584e55edcd94040bc58a275c849ea65",
            "8bbfc99d329a4804a64b4cedcaaeb422",
            "5c7d2e3e17e348c68f2d0a79df714bc6",
            "407ae1d7e6db4e268c035fc06d4305c8",
            "e7327823de6b40939bdcb3dc73ed53aa",
            "c8eb3bf17f9d41d5852a990ce20fa1ac",
            "012e5848e1544058b8c4bbc78fc8f1ed",
            "5492181485904d73a9592438d6fd0a65",
            "b16503d4b6f4480f8108882357d28e87",
            "178084e2781e400e910f84746a10d16d",
            "33a49dce960b4e9bbcc4ee44845d4ad3",
            "9924b2ca81b34b07b7e342f0d8e5a65a",
            "c5d8d474dd674d89aaa78d2e95515f03",
            "3f7b9685eb004481843228fb10e5a5df",
            "f32e63d5552948139a886491468374bf",
            "1187b6a4cbec45909c19c8d2be02a941",
            "84b3b5b384804c8d8ba38747e1bd554f",
            "cbbf5de0ad4d475688e7a4e7ffb9406d",
            "56c676e9060e4eaeb02611d6320cd0d3",
            "60507a5fa6d843fba17e72443c94239d"
          ]
        },
        "outputId": "d4a83076-6529-4a4f-bc81-6a4bb3694a6e"
      },
      "source": [
        "#load pre-trained model and tokenizer\n",
        "tokenizer = Wav2Vec2Tokenizer.from_pretrained(\"facebook/wav2vec2-base-960h\")\n",
        "model = Wav2Vec2ForCTC.from_pretrained(\"facebook/wav2vec2-base-960h\")"
      ],
      "execution_count": null,
      "outputs": [
        {
          "output_type": "stream",
          "name": "stderr",
          "text": [
            "/usr/local/lib/python3.10/dist-packages/huggingface_hub/utils/_token.py:88: UserWarning: \n",
            "The secret `HF_TOKEN` does not exist in your Colab secrets.\n",
            "To authenticate with the Hugging Face Hub, create a token in your settings tab (https://huggingface.co/settings/tokens), set it as secret in your Google Colab and restart your session.\n",
            "You will be able to reuse this secret in all of your notebooks.\n",
            "Please note that authentication is recommended but still optional to access public models or datasets.\n",
            "  warnings.warn(\n"
          ]
        },
        {
          "output_type": "display_data",
          "data": {
            "text/plain": [
              "tokenizer_config.json:   0%|          | 0.00/163 [00:00<?, ?B/s]"
            ],
            "application/vnd.jupyter.widget-view+json": {
              "version_major": 2,
              "version_minor": 0,
              "model_id": "e8c385feb3b0472b965bb54ca1ecc0e6"
            }
          },
          "metadata": {}
        },
        {
          "output_type": "display_data",
          "data": {
            "text/plain": [
              "vocab.json:   0%|          | 0.00/291 [00:00<?, ?B/s]"
            ],
            "application/vnd.jupyter.widget-view+json": {
              "version_major": 2,
              "version_minor": 0,
              "model_id": "6a53464d54fb43b6a9c4c310d673ce74"
            }
          },
          "metadata": {}
        },
        {
          "output_type": "display_data",
          "data": {
            "text/plain": [
              "special_tokens_map.json:   0%|          | 0.00/85.0 [00:00<?, ?B/s]"
            ],
            "application/vnd.jupyter.widget-view+json": {
              "version_major": 2,
              "version_minor": 0,
              "model_id": "35bb239f1b6c4d15a972360418cfcd6b"
            }
          },
          "metadata": {}
        },
        {
          "output_type": "display_data",
          "data": {
            "text/plain": [
              "config.json:   0%|          | 0.00/1.60k [00:00<?, ?B/s]"
            ],
            "application/vnd.jupyter.widget-view+json": {
              "version_major": 2,
              "version_minor": 0,
              "model_id": "90a5f236abea43b2bd32467fc27bfa60"
            }
          },
          "metadata": {}
        },
        {
          "output_type": "stream",
          "name": "stderr",
          "text": [
            "The tokenizer class you load from this checkpoint is not the same type as the class this function is called from. It may result in unexpected tokenization. \n",
            "The tokenizer class you load from this checkpoint is 'Wav2Vec2CTCTokenizer'. \n",
            "The class this function is called from is 'Wav2Vec2Tokenizer'.\n",
            "/usr/local/lib/python3.10/dist-packages/transformers/models/wav2vec2/tokenization_wav2vec2.py:733: FutureWarning: The class `Wav2Vec2Tokenizer` is deprecated and will be removed in version 5 of Transformers. Please use `Wav2Vec2Processor` or `Wav2Vec2CTCTokenizer` instead.\n",
            "  warnings.warn(\n"
          ]
        },
        {
          "output_type": "display_data",
          "data": {
            "text/plain": [
              "model.safetensors:   0%|          | 0.00/378M [00:00<?, ?B/s]"
            ],
            "application/vnd.jupyter.widget-view+json": {
              "version_major": 2,
              "version_minor": 0,
              "model_id": "178084e2781e400e910f84746a10d16d"
            }
          },
          "metadata": {}
        },
        {
          "output_type": "stream",
          "name": "stderr",
          "text": [
            "Some weights of the model checkpoint at facebook/wav2vec2-base-960h were not used when initializing Wav2Vec2ForCTC: ['wav2vec2.encoder.pos_conv_embed.conv.weight_g', 'wav2vec2.encoder.pos_conv_embed.conv.weight_v']\n",
            "- This IS expected if you are initializing Wav2Vec2ForCTC from the checkpoint of a model trained on another task or with another architecture (e.g. initializing a BertForSequenceClassification model from a BertForPreTraining model).\n",
            "- This IS NOT expected if you are initializing Wav2Vec2ForCTC from the checkpoint of a model that you expect to be exactly identical (initializing a BertForSequenceClassification model from a BertForSequenceClassification model).\n",
            "Some weights of Wav2Vec2ForCTC were not initialized from the model checkpoint at facebook/wav2vec2-base-960h and are newly initialized: ['wav2vec2.encoder.pos_conv_embed.conv.parametrizations.weight.original0', 'wav2vec2.encoder.pos_conv_embed.conv.parametrizations.weight.original1', 'wav2vec2.masked_spec_embed']\n",
            "You should probably TRAIN this model on a down-stream task to be able to use it for predictions and inference.\n"
          ]
        }
      ]
    },
    {
      "cell_type": "code",
      "metadata": {
        "id": "aZHVYnywjEu0"
      },
      "source": [
        "#load any audio file of your choice\n",
        "speech, rate = librosa.load(\"/content/Test.mp3\",sr=16000)"
      ],
      "execution_count": null,
      "outputs": []
    },
    {
      "cell_type": "code",
      "metadata": {
        "colab": {
          "base_uri": "https://localhost:8080/",
          "height": 75
        },
        "id": "b_AgY6HrjGs2",
        "outputId": "a177f710-f106-40c2-8efe-1a7f0ae273cd"
      },
      "source": [
        "import IPython.display as display\n",
        "display.Audio(\"/content/Test.mp3\", autoplay=True)"
      ],
      "execution_count": null,
      "outputs": [
        {
          "output_type": "execute_result",
          "data": {
            "text/plain": [
              "<IPython.lib.display.Audio object>"
            ],
            "text/html": [
              "\n",
              "                <audio  controls=\"controls\" autoplay=\"autoplay\">\n",
              "                    <source src=\"data:audio/mpeg;base64,//NExAAAAANIAUAAAP9TR3CkF1P+HIvGod/5iWTVJxDnxcF6H/i2PycwBA4CgFP9n5MDY5n/85T2Vf7fYRxvupJ//+riIQBgt/+fADR4HN//v59N96kVnq3GHFhYWmCy//NExFMSMcpUAZlQAKy4fk4iGcJ+3NiSUjkDbIrHrYkzrNNRyiaPGs3DlXCGF8HoOp72O+HjBM/s8q/gPHkSA8eQMwIM9LU01KysjJr6zeSr/eZrPGDMBsePVA9VepWy//NExF0hKjJsAcx4ACvKb1I4QIsCn8kT33V/ieHuBEpSlZvmegnD4ePreUU7AfyjkjVJ10J/qmEKrcG8PNoqKYJ46fjNre/OdRWDnTg3D2PDBwochCGolKlvqQdBtCjV//NExCsdKjaIAEvMuNNFvjcO1dV+MR/JNfx6ZLOYJ5MogbjuZrt71i95TmKqNBTCFvqN236bfDEJmz1kAQ3enrpte5l++yCyxZTg+J6ikxAnWpMaGL9Fea39noOBUerU//NExAkUeRakAHsYcVsQH8qJdxDXIZ+IAkQjgRQoJ5WWl8dlB+ZrCoJAPxjgolSxTsmf3J7d7fnrZ/2gqhpCs3udp/657RFmytrRbP13K7vv7v1vhDrWOPxIVklBj+US//NExAoS2SKwAMYicCzdXPG64KdUqnctDIiJkIop6RAAYHO90tyFeCCgN8WEoDuOifhoL0jE/rUZpr0i42tEzTakmX0yajipu2tmGd/9dTXoh7QKoy6YDrWvb5leGI2C//NExBEW0TqwAJZwcDqb5Bhl0AJxJCVxqHwoIXbgbCmgsEGLQLcu131LapXtfo7eo1LMOfjWt7z/Klt9z3VlUssYfKZdG5f393gfpBCkXSaA8yoAmb+I1W6yIAORfNLj//NExAgUCSK4AG4ecDrVRzpsb6+QKRKlf8YqvQAQBSoG+rzFwkvlNnRMuhPiCgXQzD9Z3ilaC9KI6HCM+lgS3lg63S99U1vVoXruKIAbdX/ouXq7tKpXYvBHhMzyBmqN//NExAoT6Ta0AJYecBVg2lFqmiSE4Jsq2jqzD9oJQAd58uXKaEV00CK1E6HqKFj3mDEJCSBCNe0Jhcve1oTmrH98QnzXbMbXrAufYp27Furv/00z9YNcAWu0zK0RLDBf//NExA0V4UKoAJ5ecJlvLlx9QRWGyTWeqroqmQ2s9x/KdHi9rnUjMfiuvV8mTJRqph47ekR2oP13migS280b2Edpt6pTFrT/FalHchFwAG8p+nnv///+tbs//6qioQa3//NExAgUgUKoAM4ecCfcTnsBzyB9Hy/9tW0FZsW7G8ZS03P//yIdv//G9fetfLyStYmeLEsQIESU3jXiQNZnTqgeazJ8RvIJ5TWcZCtUzWS1u/////3Lwtf9dnhigAxS//NExAkSEUasAMYQcLszOUyDTIVW7n9rySFa/VSxTd3rX+s1/zX9ajkeDXEoCIeoPgskuTDIq5EO2i3kfDU6tDrRY0okh/7/////+pXn4/XQ6B2p61rGoB4VzJcaIqHG//NExBMSOTKoAMIEcOUaNT4rps8n9WsgQ0DDjixhAkMUOFHCIFKDElARoKgkIhz0tOwMWe560C7lWNzhyPZ///0/1JvPnWQATlBUxpG7uctlphdZG2sAg5M+J5H7lBj5//NExB0R4TKoAMJMcFT+N76395JyEvTCTQYTjLoj+RQLubxKVHjAtqaxYijDtQbCpEg/1b/VroqWd7m3IG3vdswaIXq+zFjHILA5N7cbhPDgppRtKgj6jxm1KygdMLcg//NExCgQkNqsAMPMcAAACBqJxM/YJHGmlhkkAiYUFRi1rRT/+1v6qu83qHQiUbneCFqc0vnG4FxFP0jRDCElMkqwVwGINjdhxmIMQidJI4ubuHRSK4DxEGQmpzxOv2em//NExDgR2M6wAMYYcCY8YOSfWbkA0UEIE6vo8fVPOgLwelLHPDHSvNBhIVzbaih08BmurGnEKeJGJgTlTxGMG2kkKSA9AScMI4obPBWJnFH9Cnb20GgaIigQR7NSmP6F//NExEMQoKawAI4eTLvewAJWwnTxiHFanV4GIlNpF31ISiE+SQfOiMFTZ1R0Q/VJBQwFQql3izAnjKrC05W/t/4OpJxan9sSuIkgrVV4iCrOUeT0pGQIzETdqPwAadAI//NExFMRMMakAM6ecAt7yQQctSNZFxwKpUaUI3sWiJYAuL8uozlQiBzCxCXWdxVmL9NR5bp6dp6q/wzAzx/1qoevUBKHNumq06PB324RubVNc0Fc7CJXsWWyXWj0ViQi//NExGEQCJ6QAN6eTEV5h4QsdFSDLDKHedOjsSvPDWpZz/w//50bn6v/fp5NBj2dTKZuTtWECKPT+/tQm3//Vn2HKaXluQCU65lAvswR/BRI8rniAmOaTUcL94DFokJe//NExHMVgaKMANYElD4XSAsQKh80AOSkBLA5wD0YAAQppjPnSCMkOWb1HXao31Jvsb8/0fn/LtBQJwXg3cIhE5esdnolRXSWl0X/b//xv6f9X9PPEQlEFE///00y1VWx//NExHAbijKUAN0QuP8GGjAy/6xakHfJyyMjDpk0D6sSEMzLpfvFEFt+SpMZJOT20GRpSUUkpTlX5SWeRaWfvljn9pyie18yiJw/MoQhgkGhGHohCcavMcNMvzHFk1Jp//NExFQYIaKgANZQlJcZVWHeWN98///9HrXu9RMFKpN0ldKswoVvSaNmVaDz2n7TKNxRId/mSV0UzvQ6teH9uki0tTk2uZw5fbqxmkw/WeEd8f/5/OX8fLt80xPRqaVJ//NExEYW6ZqkAM4MlD7vb/7bb6tobYOS0Ns9t3+AVu//+LKl7umFTxETwj68RHSZtGX+QbGogdeX7YcAZKexqtJRVb/GVsJCgnUsp6lmV6Z6yqyqx/Ps4f6imiJmMV6q//NExD0VcZKgANYKlE6HeMHgRMxe+pUX2mGikFfqT3fV///b9SLKtvYWRggqf9LRLoLWRjwM/dE5JjawYzNSkDSQKBmlrGYAhH2nr6AwPXR2ccW2f69rKV4/+8sf9Wa+//NExDoXCZKQAN4QlO7+W/Vmvfm8KDA+vXietuO/gzaxCHSd1PYqV/v///Rf1whVuYU7MBl+fx/0CAJADsakW6I5GKhhBORMk87EDl1mtaoIjCEMYj1x/gUqnw1H5z////NExDAVuY6EAN4KlBtf/3bP/6vxpu3o+o6ZiP5n69DdGuoULpWEnvQS2f///6xhZEkRKoKf12lKT7qwEQbZIsxS49Bc4DVCyHGbmPCNfnXGWCLvNXlMAAWB1IvacrZw//NExCwRyJJwANawTM2cfqy3QxbuW8jPSrhif/greHUp/////4NbS1USaCUwgChgwCnuJSISKLAsMAJhM4GnBmgiZbmEB1pcVf+GHa+jlcVgqLRGIKAktMSiYdASkn1b//NExDcSOH5MAVxIALqUfs+rtZ6Wq9Um37v//2f/NCKIfm0bkCZ5mBmQBPA4Egah6xdKOYXVLpfZncTV0j6jxSJAoWTadTL5TQOA7F6U2NFIplA0HoXDTq0UjRR5M3TU//NExEEfiypYAZpoAJm5vq9F0EkE2QagXDR/+mp1WTfQL5JkuPQuIH+r//6swNCXL5uaXQQQf/6vuv9TP6kEzNM0plwehQHuS5vV7ynlcoBhLFvTkp0NTuWGnxhv9Qc+//NExBUX0hqsAZhYAFJj3mh03HYTjo6jzXbTSjlYCwgBwTkTQqUvr7+2wlO/iq/2d7XTyz//558+/P/CL1zpoh8RLUiqP///yecmy+/+iGEcsAUnmGfkVbFeYh8WulNh//NExAgUgRKkAdlgAJ+Fdz+hEjXzQfNM9nWebhvzWzici+7yPrcufrvrp39YT84VeXwnLsL697Vh5WGffXSiJkRZOjBRobIK85zBwuUKqJ7VrUZ////oy7WYSCqJDamj//NExAkU0R6kAM6YcLIGk342CAY+OebNqrH5brbkf3cAS7nyXPnwn1twsnvaYFZVwni82nFd5qcQfpScq1UXl+J6rsh0xMR8XtcQOjju9m8ULjP////6VcMOoMGoHDcX//NExAgTQSakAM6YcGkAeNdUy9YMjBkK9ceFm3OTEz/dUeuapLX/DMywf7Nx2uuKgYAatSItXlhb1qGbstqDa6zhdOc7KuWxDFkBAaYBRIAv6HJjUAliaAU7i3RaoUTJ//NExA4RESaUAMvQcIKAwASAwAJxxqh69zBhW3iFuu/i3tesCx0NZI5w6ABAutijtoZmFmWMo5g6BcdLFL+DR7iJ5JUqC0JxcUw/Y/68DETNhTNnymmY4gDBJmTZq1tg//NExBwSUPZwANZScYg/rvxFrk5Vy3Xr16T9y/tJhQoAIBtH1MnPpF2t6CE7pN88piy/WuQe/gZHd1VLx2W0Fg+ctHMkBATMQAE3ISgUIigBK+BMCcMXgVQB5Zi/E8s8//NExCURcOp4AOZYcPCvrDFp9jGCwEJDKqEWenbbm8zNIZrOvu6DkBvV11VYXXaX6qkQtppcMQAq+AaBnr35jQdLGMgndCy1UYUzTmU3Q2uQE0ypWkj8tvYqggAY4x7u//NExDISkQZ8AN5WcKTVfkxid5P+BsWzof7m1B2HRP++FoYiehWTSGTqtK8BCCJJTnAFBhgXBTXRSLf6nI2j/duWU9JBq+sMvzWE0v/P1gT9VhP/zc/FnfmN/vMQxUUQ//NExDoREPqMAN4ScIkhI5/QKAN4qkUVjvaUZBHPR22shcECdRtkAsvMADHXDsSjNOwULkDxcsZQOnsGahNt0aDNY08Uv5sWEa0iobSKf8B/7MbHFPOFLdgarrel05bB//NExEgScP6UANZMcDept/pjZimjHaN/RDyMqJYNVGWBlzKeUgaUZFYCYiLKhBCyl9bUedbHWMBVtflO/3Kvh/497/suMspAY1y+39dkPPSdzjmQXJWqw52KhVazWTwI//NExFERyXaYANZKlSEsaKAEGIdTSBIoDN2XwEyoLZCwGgRMuqX8uyidgKSw/2tfvZ6q4Z57x1zf5cO7uSVUKqo9//0rW73Qygo0Or3OWhAqWsiMnV0F0jgFcqdtigwI//NExFwR4XKgANYEleSsgVuJcEBhDh3KityIxmIEPgaxGpZSKpILT2Sj09aaMx2tvk0ZAZbTrb6HJBlg6pvv+8JtGt/KpcvozfmdvxajLPArFWOlgpYYEkQDyOMuCvog//NExGcQ4O6kAM4McMM6c3OCIULGHKrSUIjnymhc2WTw7fiZfMFHY2sC4d/+tIqEQf/+wUqGL9yOodhmQAQhdrVBUACT5NWYm4CFGwY0yZmthmQFiB19aSMOHRDXMGmI//NExHYSoPakAM4YcIxWUqrGCQDpJFSWZ5OV78al+cQUs9mMwuIHCS3csqgCLKgeDzf/b07o7VQwic5SiRWolvX/mcUcn////6qNfdgwqBUz+KRI4uSzYkCRjAoHJhmw//NExH4Z8eqQAN5KmLjlhDMxaU8iFynkcCOiJcAnTzYtLQCDgdDWIO5gjYFiJjhKOS7EJgIFm3CK2LCQJGh4Ogq1wWQHoClAMVAb0gYoAZQpkCPl9MwZkENladfT01vT//NExGkeUXqIAOaklDVqazhtPnT38S5Zn/////oqYbSW2sGGqZsQOhoFApYU1KkMoKyahS+dVY6A0zFRheJCQhLMxWKz0EOiyl9pUvtW5hLLZyLuMvpUyRSGygKnSwZo//NExEIa2VKMAN4YlEgALD1VHPSkIcgiCUsGMZcM1MTea1tq5Oz29B1qc+xl3RQGj3/650Si1Z+jliQ4BtzOgdJlSgqEQTPmdAqBpd8O+EFZrNsnShSuhqMWaaelVapJ//NExCkUIR6MAN4ScGlk0mmxY0jxZNX21Jm4jRIqixueTn7kkxXhlZ10YPhRKGh852/pLoWWT1EDTptTSJVkcGmdImXDN3C7E59NBJBaGDLM5UnUPWonJeVDnqZhUVYi//NExCsc0dKYANPelLK0vWebECskd3HeK5kMUuRMSXoXDXajjQW6aHS0OPSFFgwodWmJRsmf6fxYz/Ot4h7h5j3pSnziu8emvam/rFIdw8T/////+lWms2xRlX9h9AMA//NExAoUeYqkAMsSlP1KBAUD5AVFQxQSj6oPgkO3nF/leuebVVrlZmn1ravOZPMtEJcVDoOlz5K9Fy0WthU5NzPNn13XCLUcjXutqslkJZ3kjbfqGqHHAUg91QsAKGUz//NExAsR8SqkAMPQcKZ7eqBVDcVW44+2bTUoYuZI25X28x61t9R+u338pYdCQNhCIAUGWJDiqZBw09jxQDi5tjGAEYVASVuZ/FKrTtEAisolJkwhyryEMIPOltAdUK70//NExBYRSSqYAMvQcHlBXi40s27/cv3l9EHfXx///zUtaqjDwWhwGRCDooqxCCQ4ogBlAq3A3lRtp+z0VXEyVvOqMakrIchWqmuEgqkx9/Ujx6F3TCIVYTce7sFttrCv//NExCMR+S6IANYQcG85feqUgtlrM29z7w0a9XzmkKaLlA6KuSQ8sHiEMKCZnd/a7x5HhwBQybAhFXiPjCXWoCaI0NQlmiuxsNqUNrjHmR3IsmhIuySj5do86kH+FVUa//NExC4RaS6AANYQcbUxKGJlfc6XLB6wfDIklxqHEmitsNVY5XWaCFgo44JDAAVBTjkuWroMtclKoDBFo9RCHqi8up2RVJYs5xL0NWrc3c1jQdA2fBS+If2TwN7JjKY8//NExDsSUTJ0AN5QcKc+Q51KvhlGNCjJMo/6lUOLDxUGOPP40hIMRiggOEIFOAJphLZTEmQWoaZPN4p09lMds8oL1fmN2sbZHRHI2miXOHZXdn/vgTOic+b/9zWa3DSY//NExEQSCTZwAN4McP//+QQqHQ5gRKMmgRSIqpDFSIzAAaG1hVZqhAAJ7GtHNdOC+cYyru7jQIOn0floHsChBUJrhGZck8a7ZBImmlW+d/++cpizLhn////9NTBAB4Ur//NExE4SGTZkANvMcAyqFRZj7Ew5NlDlQ85AxANTm2NRgaMC2nL1k9m3Jjpqk0O19ieGjkUNynhgyyzhwQPdDrUfA442eOHyPlEVuyv31fUqRuXmQFHXsc5CbZgAlvXU//NExFgSCQJgANsMcH4LhMTFhbo2VaulS+qplU+ZsPqb1b80pYMBjQY9Fqr7LVVa9XPnmohQKAUBQK4qGoaJFjy3c6Vy2xpKJCcOmJ+8OpSqYekMVEajaQtNdOugIzKW//NExGIScPpUAMvMcBUFfsdh4VywLPEXHgqNBV8krHA0FSUqtT4iPFXeSOjxFviUNZH8s+7+s77LlwFDWTDc1LQkjkKRPJBbPGiUiIRo4jYajKMruG5/rJSMjUMFBhHQ//NExGsROKX8AHsGTMmChgQcMmQEExX8V//iotQDIoHjQFFRb///+LM1C6pMQU1FMy4xMDCqqqqqqqqqqqqqqqqqqqqqqqqqqqqqqqqqqqqqqqqqqqqqqqqqTEFNRTMu//NExHkRCOGEAGJGcDEwMKqqqqqqqqqqqqqqqqqqqqqqqqqqqqqqqqqqqqqqqqqqqqqqqqqqqqqqqqqqqqqqqqqqqqqqqqqqqqqqqqqqqqqqqqqqqqqqqqqqTEFNRTMu//NExIcAAANIAAAAADEwMKqqqqqqqqqqqqqqqqqqqqqqqqqqqqqqqqqqqqqqqqqqqqqqqqqqqqqqqqqqqqqqqqqqqqqqqqqqqqqqqqqqqqqqqqqqqqqqqqqqTEFNRTMu//NExKwAAANIAAAAADEwMKqqqqqqqqqqqqqqqqqqqqqqqqqqqqqqqqqqqqqqqqqqqqqqqqqqqqqqqqqqqqqqqqqqqqqqqqqqqqqqqqqqqqqqqqqqqqqqqqqqTEFNRTMu//NExKwAAANIAAAAADEwMKqqqqqqqqqqqqqqqqqqqqqqqqqqqqqqqqqqqqqqqqqqqqqqqqqqqqqqqqqqqqqqqqqqqqqqqqqqqqqqqqqqqqqqqqqqqqqqqqqqTEFNRTMu//NExKwAAANIAAAAADEwMKqqqqqqqqqqqqqqqqqqqqqqqqqqqqqqqqqqqqqqqqqqqqqqqqqqqqqqqqqqqqqqqqqqqqqqqqqqqqqqqqqqqqqqqqqqqqqqqqqqTEFNRTMu//NExKwAAANIAAAAADEwMKqqqqqqqqqqqqqqqqqqqqqqqqqqqqqqqqqqqqqqqqqqqqqqqqqqqqqqqqqqqqqqqqqqqqqqqqqqqqqqqqqqqqqqqqqqqqqqqqqqqqqqqqqq//NExKwAAANIAAAAAKqqqqqqqqqqqqqqqqqqqqqqqqqqqqqqqqqqqqqqqqqqqqqqqqqqqqqqqqqqqqqqqqqqqqqqqqqqqqqqqqqqqqqqqqqqqqqqqqqqqqqqqqqqqqqq//NExKwAAANIAAAAAKqqqqqqqqqqqqqqqqqqqqqqqqqqqqqqqqqqqqqqqqqqqqqqqqqqqqqqqqqqqqqqqqqqqqqqqqqqqqqqqqqqqqqqqqqqqqqqqqqqqqqqqqqqqqqq\" type=\"audio/mpeg\" />\n",
              "                    Your browser does not support the audio element.\n",
              "                </audio>\n",
              "              "
            ]
          },
          "metadata": {},
          "execution_count": 31
        }
      ]
    },
    {
      "cell_type": "code",
      "metadata": {
        "id": "EKKsO6TsjToR"
      },
      "source": [
        "input_values = tokenizer(speech, return_tensors = 'pt').input_values"
      ],
      "execution_count": null,
      "outputs": []
    },
    {
      "cell_type": "code",
      "metadata": {
        "colab": {
          "base_uri": "https://localhost:8080/"
        },
        "id": "Nx-_Kv8mrreF",
        "outputId": "6b94a53d-cd56-44b4-d043-c6ea95a1abba"
      },
      "source": [
        "input_values"
      ],
      "execution_count": null,
      "outputs": [
        {
          "output_type": "execute_result",
          "data": {
            "text/plain": [
              "tensor([[0.0032, 0.0032, 0.0032,  ..., 0.0032, 0.0032, 0.0032]])"
            ]
          },
          "metadata": {},
          "execution_count": 33
        }
      ]
    },
    {
      "cell_type": "code",
      "metadata": {
        "id": "hOnEeB8ikD2p"
      },
      "source": [
        "#Store logits (non-normalized predictions)\n",
        "logits = model(input_values).logits"
      ],
      "execution_count": null,
      "outputs": []
    },
    {
      "cell_type": "code",
      "metadata": {
        "colab": {
          "base_uri": "https://localhost:8080/"
        },
        "id": "liLxM8KW2tFe",
        "outputId": "1ae7c539-e53c-4732-c926-93e53234d7c3"
      },
      "source": [
        "logits"
      ],
      "execution_count": null,
      "outputs": [
        {
          "output_type": "execute_result",
          "data": {
            "text/plain": [
              "tensor([[[ 14.7486, -25.7812, -25.4406,  ...,  -6.2802,  -7.6492,  -7.9503],\n",
              "         [ 14.2134, -25.4631, -25.1266,  ...,  -6.2478,  -7.3839,  -8.0082],\n",
              "         [ 14.0006, -26.0518, -25.7212,  ...,  -6.6468,  -7.9237,  -8.2037],\n",
              "         ...,\n",
              "         [ 13.9291, -24.1978, -23.8496,  ...,  -4.3936,  -7.4470,  -7.1892],\n",
              "         [ 13.9290, -24.1965, -23.8485,  ...,  -4.3928,  -7.4459,  -7.1889],\n",
              "         [ 14.5193, -25.8105, -25.4926,  ...,  -6.2229,  -7.7970,  -7.7154]]],\n",
              "       grad_fn=<ViewBackward0>)"
            ]
          },
          "metadata": {},
          "execution_count": 35
        }
      ]
    },
    {
      "cell_type": "code",
      "metadata": {
        "id": "741DtETtiW4N",
        "colab": {
          "base_uri": "https://localhost:8080/"
        },
        "outputId": "a89a15e3-9323-4e3f-eee8-60846e2013cf"
      },
      "source": [
        "#Store predicted id's\n",
        "predicted_ids = torch.argmax(logits, dim =-1)\n",
        "predicted_ids"
      ],
      "execution_count": null,
      "outputs": [
        {
          "output_type": "execute_result",
          "data": {
            "text/plain": [
              "tensor([[ 0,  0,  0,  0,  0, 11, 11,  0,  0,  0,  0, 10, 21,  0, 11,  4,  4, 11,\n",
              "         11,  0,  0,  5, 15,  0,  0, 15,  0,  0,  0,  8,  0,  0,  0,  4,  4,  0,\n",
              "         21,  8,  8,  0,  0,  8, 14,  0,  4,  4,  0, 17,  0,  0,  0,  8,  0, 13,\n",
              "          0,  0,  9,  0,  0,  0, 10,  9, 21, 21,  4,  4,  4,  4,  0,  0,  0,  0,\n",
              "          0,  0,  0,  0,  0,  0,  0,  0]])"
            ]
          },
          "metadata": {},
          "execution_count": 36
        }
      ]
    },
    {
      "cell_type": "code",
      "metadata": {
        "id": "5XEmE0-xjVqU"
      },
      "source": [
        "#decode the audio to generate text\n",
        "transcriptions = tokenizer.decode(predicted_ids[0])\n"
      ],
      "execution_count": null,
      "outputs": []
    },
    {
      "cell_type": "code",
      "metadata": {
        "colab": {
          "base_uri": "https://localhost:8080/"
        },
        "id": "scP9E_yPrGpq",
        "outputId": "324abfb0-d63f-48a8-83f7-104514351658"
      },
      "source": [
        "print(transcriptions)"
      ],
      "execution_count": null,
      "outputs": [
        {
          "output_type": "stream",
          "name": "stdout",
          "text": [
            "HIGH HELLO GOOD MORNING\n"
          ]
        }
      ]
    },
    {
      "cell_type": "markdown",
      "source": [
        "<H1> TEXT TO SPEECH"
      ],
      "metadata": {
        "id": "08gfAN_QUNi-"
      }
    },
    {
      "cell_type": "code",
      "source": [
        "!pip install gtts"
      ],
      "metadata": {
        "colab": {
          "base_uri": "https://localhost:8080/"
        },
        "id": "WnjnrYgLUZJt",
        "outputId": "b83aceca-a683-453c-87ee-60ac64046ecf"
      },
      "execution_count": null,
      "outputs": [
        {
          "output_type": "stream",
          "name": "stdout",
          "text": [
            "Collecting gtts\n",
            "  Downloading gTTS-2.5.1-py3-none-any.whl (29 kB)\n",
            "Requirement already satisfied: requests<3,>=2.27 in /usr/local/lib/python3.10/dist-packages (from gtts) (2.31.0)\n",
            "Requirement already satisfied: click<8.2,>=7.1 in /usr/local/lib/python3.10/dist-packages (from gtts) (8.1.7)\n",
            "Requirement already satisfied: charset-normalizer<4,>=2 in /usr/local/lib/python3.10/dist-packages (from requests<3,>=2.27->gtts) (3.3.2)\n",
            "Requirement already satisfied: idna<4,>=2.5 in /usr/local/lib/python3.10/dist-packages (from requests<3,>=2.27->gtts) (3.6)\n",
            "Requirement already satisfied: urllib3<3,>=1.21.1 in /usr/local/lib/python3.10/dist-packages (from requests<3,>=2.27->gtts) (2.0.7)\n",
            "Requirement already satisfied: certifi>=2017.4.17 in /usr/local/lib/python3.10/dist-packages (from requests<3,>=2.27->gtts) (2024.2.2)\n",
            "Installing collected packages: gtts\n",
            "Successfully installed gtts-2.5.1\n"
          ]
        }
      ]
    },
    {
      "cell_type": "code",
      "metadata": {
        "id": "DCH-Rvc921vO"
      },
      "source": [
        "from gtts import gTTS"
      ],
      "execution_count": null,
      "outputs": []
    },
    {
      "cell_type": "code",
      "source": [
        "language = \"en\""
      ],
      "metadata": {
        "id": "6Mke6uPeUXYX"
      },
      "execution_count": null,
      "outputs": []
    },
    {
      "cell_type": "code",
      "source": [
        "text = \"HI HELLO GOOD MORNING\""
      ],
      "metadata": {
        "id": "4h8ZwVvYUj_U"
      },
      "execution_count": null,
      "outputs": []
    },
    {
      "cell_type": "code",
      "source": [
        "speech = gTTS(text=text,lang=language, slow = False)"
      ],
      "metadata": {
        "id": "P0kzIIUfUvc1"
      },
      "execution_count": null,
      "outputs": []
    },
    {
      "cell_type": "code",
      "source": [
        "speech.save(\"Test.mp3\")"
      ],
      "metadata": {
        "id": "-_hPsHEVVAws"
      },
      "execution_count": null,
      "outputs": []
    },
    {
      "cell_type": "code",
      "source": [],
      "metadata": {
        "id": "y_2X79RYVHc_"
      },
      "execution_count": null,
      "outputs": []
    }
  ]
}